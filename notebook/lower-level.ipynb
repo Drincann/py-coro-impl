{
 "cells": [
  {
   "attachments": {},
   "cell_type": "markdown",
   "metadata": {},
   "source": [
    "#### 目的\n",
    "实现真正的异步调用\n",
    "```ts\n",
    "import { readFile } from 'fs';\n",
    "readFile('/etc/hosts', (err, data) => {\n",
    "  console.log(1);\n",
    "});\n",
    "console.log(2);\n",
    "\n",
    "// output 2 1\n",
    "```"
   ]
  },
  {
   "attachments": {},
   "cell_type": "markdown",
   "metadata": {},
   "source": [
    "#### 下层协程调度器包含以下几个部分\n",
    "- 事件循环(Event Loop)\n",
    "- 事件队列(Event Queue)\n",
    "  - 定时器(Timer)\n",
    "  - I/O(async I/O)"
   ]
  },
  {
   "attachments": {},
   "cell_type": "markdown",
   "metadata": {},
   "source": [
    "#### 用阻塞的 socket 实现一次网络 IO\n",
    "- socket.connect() blocking call\n",
    "- socket.send()\n",
    "- socket.recv() blocking call"
   ]
  },
  {
   "attachments": {},
   "cell_type": "markdown",
   "metadata": {},
   "source": [
    "#### 一个用非阻塞 socket 发起一个 HTTP 请求的例子"
   ]
  },
  {
   "cell_type": "code",
   "execution_count": null,
   "metadata": {},
   "outputs": [],
   "source": [
    "import socket\n",
    "import urllib.parse\n",
    "import selectors\n",
    "from selectors import EVENT_WRITE, EVENT_READ\n",
    "\n",
    "url = \"http://antispam-gaojunkang.devops.sl.sit.xiaohongshu.com/moss/api/algorithms\"\n",
    "\n",
    "# parse url\n",
    "urlParsed = urllib.parse.urlparse(url)\n",
    "selector = selectors.DefaultSelector()\n",
    "# get a non-blocking socket\n",
    "sock = socket.socket()\n",
    "sock.setblocking(False)\n",
    "\n",
    "# on connected\n",
    "def connected():\n",
    "  # unregister write event(connected)\n",
    "  selector.unregister(sock.fileno())\n",
    "  # register read event, it will be triggered when socket is readable(response data)\n",
    "  selector.register(sock.fileno(), EVENT_READ, responded)\n",
    "  # send request\n",
    "  sock.send(\n",
    "    (f\"\"\"GET {urlParsed.path if urlParsed.path != '' else '/'}{'?' if urlParsed.query != '' else '' + urlParsed.query} HTTP/1.0\\r\\n\"\"\" +\n",
    "      f\"\"\"Host: {urlParsed.hostname}\\r\\n\\r\\n\"\"\")\n",
    "    .encode('ascii')\n",
    "  )\n",
    "\n",
    "# init response data buffer in closure scope\n",
    "responseData = bytes()\n",
    "# on responded\n",
    "def responded():\n",
    "  global responseData\n",
    "  # read a chunk of data\n",
    "  chunk = sock.recv(4096)\n",
    "  if chunk:\n",
    "    # response data is not complete, append it to buffer\n",
    "    responseData += chunk\n",
    "  else:\n",
    "    # response data is complete, unregister read event(response data)\n",
    "    selector.unregister(sock.fileno())\n",
    "    \n",
    "    # process response data\n",
    "    print(responseData.decode('utf-8'))\n",
    "\n",
    "# register write event, it will be triggered when socket is writable(connected)\n",
    "selector.register(sock.fileno(), EVENT_WRITE, connected)\n",
    "try:\n",
    "  sock.connect((urlParsed.hostname, urlParsed.port if urlParsed.port != None else 80))\n",
    "except BlockingIOError as e:\n",
    "  # [Errno 36] Operation now in progress\n",
    "  # In non-blocking mode, connect returns immediately, regardless of whether the\n",
    "  # connection is established, and throwing an exception is the expected behavior\n",
    "  pass\n",
    "\n",
    "\n"
   ]
  },
  {
   "attachments": {},
   "cell_type": "markdown",
   "metadata": {},
   "source": [
    "在 selector 上等待三次事件发生:"
   ]
  },
  {
   "cell_type": "code",
   "execution_count": null,
   "metadata": {},
   "outputs": [],
   "source": [
    "events = selector.select()\n",
    "for eventKey, _ in events:\n",
    "  eventKey.data()"
   ]
  },
  {
   "cell_type": "code",
   "execution_count": null,
   "metadata": {},
   "outputs": [],
   "source": [
    "events = selector.select()\n",
    "for eventKey, _ in events:\n",
    "  eventKey.data()\n",
    "\n",
    "events = selector.select()\n",
    "for eventKey, _ in events:\n",
    "  eventKey.data()"
   ]
  },
  {
   "attachments": {},
   "cell_type": "markdown",
   "metadata": {},
   "source": [
    "但更优雅的方式是像下面这样做，而这就是事件循环:"
   ]
  },
  {
   "cell_type": "code",
   "execution_count": null,
   "metadata": {},
   "outputs": [],
   "source": [
    "while True:\n",
    "  # check if there is any event\n",
    "  if len(selector.get_map()) == 0:\n",
    "    break\n",
    "  \n",
    "  # i/o waiting\n",
    "  for eventKey, _ in selector.select():\n",
    "    eventKey.data()"
   ]
  },
  {
   "attachments": {},
   "cell_type": "markdown",
   "metadata": {},
   "source": [
    "封装一下我们的事件循环:"
   ]
  },
  {
   "cell_type": "code",
   "execution_count": null,
   "metadata": {},
   "outputs": [],
   "source": [
    "import selectors\n",
    "\n",
    "class Loop:\n",
    "  def __init__(self) -> None:\n",
    "    self.selector = selectors.DefaultSelector()\n",
    "    \n",
    "  def loop(self) -> None:\n",
    "    while True:\n",
    "      if len(self.selector.get_map()) == 0: break\n",
    "      for eventKey, _ in self.selector.select():\n",
    "        eventKey.data()\n",
    "        \n",
    "globalLoop = Loop()"
   ]
  },
  {
   "attachments": {},
   "cell_type": "markdown",
   "metadata": {},
   "source": [
    "封装一下我们的 HTTP GET 方法:"
   ]
  },
  {
   "cell_type": "code",
   "execution_count": null,
   "metadata": {},
   "outputs": [],
   "source": [
    "import socket\n",
    "import urllib.parse\n",
    "from selectors import EVENT_WRITE, EVENT_READ\n",
    "from typing import Callable\n",
    "\n",
    "def asyncGet(url: str, callback: Callable[[str], None]):\n",
    "  urlParsed = urllib.parse.urlparse(url)\n",
    "  # difference\n",
    "  # selector = selectors.DefaultSelector()\n",
    "  selector = globalLoop.selector\n",
    "  sock = socket.socket()\n",
    "  sock.setblocking(False)\n",
    "\n",
    "  def connected():\n",
    "    selector.unregister(sock.fileno())\n",
    "    selector.register(sock.fileno(), EVENT_READ, responded)\n",
    "    sock.send(\n",
    "          (f\"\"\"GET {urlParsed.path if urlParsed.path != '' else '/'}{'?' if urlParsed.query != '' else '' + urlParsed.query} HTTP/1.0\\r\\n\"\"\" +\n",
    "            f\"\"\"Host: {urlParsed.hostname}\\r\\n\\r\\n\"\"\")\n",
    "          .encode('ascii')\n",
    "    )\n",
    "\n",
    "  responseData = bytes()\n",
    "  def responded():\n",
    "    nonlocal responseData\n",
    "    chunk = sock.recv(4096)\n",
    "    if chunk:\n",
    "      responseData += chunk\n",
    "    else:\n",
    "      selector.unregister(sock.fileno())\n",
    "      # difference\n",
    "      # print(responseData.decode('utf-8'))\n",
    "      callback(responseData.decode('utf-8'))\n",
    "\n",
    "  selector.register(sock.fileno(), EVENT_WRITE, connected)\n",
    "  try:\n",
    "    sock.connect((urlParsed.hostname, urlParsed.port if urlParsed.port != None else 80))\n",
    "  except BlockingIOError as e:\n",
    "    pass \n"
   ]
  },
  {
   "attachments": {},
   "cell_type": "markdown",
   "metadata": {},
   "source": [
    "我们实现了吗？\n",
    "```ts\n",
    "import { readFile } from 'fs';\n",
    "readFile('/etc/hosts', (err, data) => {\n",
    "  console.log(1);\n",
    "});\n",
    "console.log(2);\n",
    "\n",
    "// output 2 1\n",
    "```"
   ]
  },
  {
   "cell_type": "code",
   "execution_count": null,
   "metadata": {},
   "outputs": [],
   "source": [
    "asyncGet(\"http://antispam-gaojunkang.devops.sl.sit.xiaohongshu.com/moss/api/algorithms\", lambda data: print(1))\n",
    "print(2)\n",
    "\n",
    "# difference between js and python\n",
    "globalLoop.loop()"
   ]
  },
  {
   "attachments": {},
   "cell_type": "markdown",
   "metadata": {},
   "source": [
    "#### 我们为什么需要事件队列\n",
    "\n",
    "- 在复杂的调度场景下, 使用事件队列来更容易地组织我们的调度逻辑\n",
    "  - 宏任务\n",
    "    - **setTimeout / setInterval, 定时器优先队列(最近时间最小堆)**\n",
    "    - **I/O callback, I/O 事件队列**\n",
    "  - 微任务队列(promise callback/ MutationObserver callback)\n"
   ]
  },
  {
   "cell_type": "code",
   "execution_count": null,
   "metadata": {},
   "outputs": [],
   "source": [
    "from collections import deque\n",
    "from typing import Callable\n",
    "\n",
    "class EventQueue:\n",
    "  def __init__(self) -> None:\n",
    "    self.queue = deque()\n",
    "  \n",
    "  def enqueue(self, callback: Callable[[], None]):\n",
    "    self.queue.append(callback)\n",
    "    \n",
    "  def dequeue(self) -> Callable[[], None]:\n",
    "    return self.queue.popleft()\n",
    "\n",
    "globalEventQueue = EventQueue()"
   ]
  },
  {
   "attachments": {},
   "cell_type": "markdown",
   "metadata": {},
   "source": [
    "**第一个例子**: 为了避免护航效应\n",
    "\n",
    "在异步接口 I/O 结束后, 将开发者的回调函数推到事件队列:"
   ]
  },
  {
   "cell_type": "code",
   "execution_count": null,
   "metadata": {},
   "outputs": [],
   "source": [
    "import socket\n",
    "import urllib.parse\n",
    "from selectors import EVENT_WRITE, EVENT_READ\n",
    "from typing import Callable\n",
    "\n",
    "def asyncGet(url: str, callback: Callable[[str], None]):\n",
    "  urlParsed = urllib.parse.urlparse(url)\n",
    "  selector = globalLoop.selector\n",
    "  sock = socket.socket()\n",
    "  sock.setblocking(False)\n",
    "\n",
    "  def connected():\n",
    "    selector.unregister(sock.fileno())\n",
    "    selector.register(sock.fileno(), EVENT_READ, responded)\n",
    "    sock.send(\n",
    "          (f\"\"\"GET {urlParsed.path if urlParsed.path != '' else '/'}{'?' if urlParsed.query != '' else '' + urlParsed.query} HTTP/1.0\\r\\n\"\"\" +\n",
    "            f\"\"\"Host: {urlParsed.hostname}\\r\\n\\r\\n\"\"\")\n",
    "          .encode('ascii')\n",
    "    )\n",
    "\n",
    "  responseData = bytes()\n",
    "  def responded():\n",
    "    nonlocal responseData\n",
    "    chunk = sock.recv(4096)\n",
    "    if chunk:\n",
    "      responseData += chunk\n",
    "    else:\n",
    "      selector.unregister(sock.fileno())\n",
    "      # here is the difference\n",
    "      # callback(responseData.decode('utf-8'))\n",
    "      globalEventQueue.enqueue(lambda: callback(responseData.decode('utf-8')))\n",
    "\n",
    "  selector.register(sock.fileno(), EVENT_WRITE, connected)\n",
    "  try:\n",
    "    sock.connect((urlParsed.hostname, urlParsed.port if urlParsed.port != None else 80))\n",
    "  except BlockingIOError as e:\n",
    "    pass \n"
   ]
  },
  {
   "attachments": {},
   "cell_type": "markdown",
   "metadata": {},
   "source": [
    "我们的事件循环也要负责调度事件队列中的回调函数了:"
   ]
  },
  {
   "cell_type": "code",
   "execution_count": null,
   "metadata": {},
   "outputs": [],
   "source": [
    "import selectors\n",
    "\n",
    "class Loop:\n",
    "  def __init__(self) -> None:\n",
    "    self.selector = selectors.DefaultSelector()\n",
    "    \n",
    "  def loop(self) -> None:\n",
    "    while True:\n",
    "      # difference\n",
    "      # check event queue\n",
    "      if len(globalEventQueue.queue) > 0:\n",
    "        globalEventQueue.dequeue()()\n",
    "\n",
    "      # I/O waiting\n",
    "      if len(self.selector.get_map()) > 0:\n",
    "        for eventKey, _ in self.selector.select():\n",
    "          eventKey.data()\n",
    "        \n",
    "      if len(self.selector.get_map()) == 0 and len(globalEventQueue.queue) == 0: break\n",
    "        \n",
    "globalLoop = Loop()"
   ]
  },
  {
   "attachments": {},
   "cell_type": "markdown",
   "metadata": {},
   "source": [
    "**第二个例子**: 最近时间最小堆实现的 timer 优先队列"
   ]
  },
  {
   "attachments": {},
   "cell_type": "markdown",
   "metadata": {},
   "source": [
    "抽象一个 timer, 它仅仅保存一个回调函数和一个时间戳:"
   ]
  },
  {
   "cell_type": "code",
   "execution_count": null,
   "metadata": {},
   "outputs": [],
   "source": [
    "import time\n",
    "\n",
    "class Timer:\n",
    "  def __init__(self, timeout: float, callback: Callable) -> None:\n",
    "    self.end = time.time() + timeout\n",
    "    self.callback = callback\n",
    "\n",
    "  def isTimeout(self) -> bool:\n",
    "    return time.time() >= self.end\n",
    "\n",
    "  def getCallback(self):\n",
    "    return self.callback\n",
    "  \n",
    "  def __lt__(self, other: 'Timer') -> bool:\n",
    "    return self.end < other.end\n"
   ]
  },
  {
   "attachments": {},
   "cell_type": "markdown",
   "metadata": {},
   "source": [
    "为了让 timer 能够被调度, 我们需要一个 timer 优先队列:"
   ]
  },
  {
   "cell_type": "code",
   "execution_count": null,
   "metadata": {},
   "outputs": [],
   "source": [
    "# timer heap impl\n",
    "from typing import Callable, Any, List\n",
    "import heapq\n",
    "\n",
    "class MinHeap:\n",
    "    def __init__(self):\n",
    "        self.__data: List[Any] = []\n",
    "\n",
    "    def push(self, item: Any):\n",
    "        heapq.heappush(self.__data, item)\n",
    "\n",
    "    def pop(self):\n",
    "        if len(self.__data) == 0:\n",
    "            return None\n",
    "        return heapq.heappop(self.__data)\n",
    "\n",
    "    def peek(self):\n",
    "        if len(self.__data) == 0:\n",
    "            return None\n",
    "        return self.__data[0]\n",
    "\n",
    "class TimerHeap:\n",
    "    __single = None\n",
    "\n",
    "    @classmethod\n",
    "    def getInstance(cls) -> \"TimerHeap\":\n",
    "        if TimerHeap.__single is None:\n",
    "            TimerHeap.__single = TimerHeap()\n",
    "        return TimerHeap.__single\n",
    "\n",
    "    def __init__(self) -> None:\n",
    "        self.__heap: MinHeap = MinHeap()\n",
    "\n",
    "    def pushTimer(self, timer: \"Timer\") -> \"TimerHeap\":\n",
    "        return self.__heap.push(timer)\n",
    "\n",
    "    def popTimer(self) -> \"Timer\":\n",
    "        return self.__heap.pop()\n",
    "\n",
    "    def peekTimer(self) -> \"Timer\":\n",
    "        return self.__heap.peek()\n",
    "\n",
    "\n",
    "globalTimerHeap = TimerHeap.getInstance()"
   ]
  },
  {
   "attachments": {},
   "cell_type": "markdown",
   "metadata": {},
   "source": [
    "修改我们的事件循环, 使得它能够调度 timer 队列中的 timer:"
   ]
  },
  {
   "cell_type": "code",
   "execution_count": null,
   "metadata": {},
   "outputs": [],
   "source": [
    "import selectors\n",
    "\n",
    "class Loop:\n",
    "  def __init__(self) -> None:\n",
    "    self.selector = selectors.DefaultSelector()\n",
    "    \n",
    "  def loop(self) -> None:\n",
    "    while True:\n",
    "      # difference\n",
    "      # check timer queue\n",
    "      if globalTimerHeap.peekTimer() is not None and globalTimerHeap.peekTimer().isTimeout():\n",
    "        globalTimerHeap.popTimer().getCallback()()\n",
    "      \n",
    "      # check event queue\n",
    "      if len(globalEventQueue.queue) > 0:\n",
    "        globalEventQueue.dequeue()()\n",
    "\n",
    "      # I/O waiting\n",
    "      if len(self.selector.get_map()) > 0:\n",
    "        for eventKey, _ in self.selector.select():\n",
    "          eventKey.data()\n",
    "        \n",
    "      if len(self.selector.get_map()) == 0 and len(globalEventQueue.queue) == 0 and globalTimerHeap.peekTimer() is None: break\n",
    "        \n",
    "globalLoop = Loop()"
   ]
  },
  {
   "attachments": {},
   "cell_type": "markdown",
   "metadata": {},
   "source": [
    "实现一个 api 用来向 timer 队列中添加 timer:\n",
    "类似 JavaScript 的 setTimeout\n",
    "```ts\n",
    "setTimeout(() => {\n",
    "  console.log('setTimeout');\n",
    "}, 0);\n",
    "```"
   ]
  },
  {
   "cell_type": "code",
   "execution_count": null,
   "metadata": {},
   "outputs": [],
   "source": [
    "def setTimeout(callback: Callable, timeout: int) -> None:\n",
    "  globalTimerHeap.pushTimer(Timer(timeout / 1000, callback))"
   ]
  },
  {
   "attachments": {},
   "cell_type": "markdown",
   "metadata": {},
   "source": [
    "试一试:"
   ]
  },
  {
   "cell_type": "code",
   "execution_count": null,
   "metadata": {},
   "outputs": [],
   "source": [
    "asyncGet(\"http://antispam-gaojunkang.devops.sl.sit.xiaohongshu.com/moss/api/algorithms\", lambda data: print('http request response'))\n",
    "setTimeout(lambda: print(\"timer 1s timeout\"), 5000)\n",
    "\n",
    "globalLoop.loop()"
   ]
  },
  {
   "attachments": {},
   "cell_type": "markdown",
   "metadata": {},
   "source": [
    "#### 参考\n",
    "- 达夫设备，在 C 中实现协程 https://www.chiark.greenend.org.uk/~sgtatham/coroutines.html\n",
    "\n",
    "- 知乎灵剑 https://www.zhihu.com/people/ling-jian-94\n",
    "\n",
    "- 500 lines or less，实现单线程并发爬虫 http://aosabook.org/en/500L/a-web-crawler-with-asyncio-coroutines.html\n",
    "\n",
    "- stackful 和 stackless 协程 https://www.zhihu.com/question/65647171/answer/233495694\n",
    "\n",
    "- 完整实现, 包含较完整的 promise 实现 https://github.com/Drincann/py-coroutine"
   ]
  }
 ],
 "metadata": {
  "kernelspec": {
   "display_name": "Python 3",
   "language": "python",
   "name": "python3"
  },
  "language_info": {
   "codemirror_mode": {
    "name": "ipython",
    "version": 3
   },
   "file_extension": ".py",
   "mimetype": "text/x-python",
   "name": "python",
   "nbconvert_exporter": "python",
   "pygments_lexer": "ipython3",
   "version": "3.11.3"
  },
  "orig_nbformat": 4
 },
 "nbformat": 4,
 "nbformat_minor": 2
}
