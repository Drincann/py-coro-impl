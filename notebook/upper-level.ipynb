{
 "cells": [
  {
   "attachments": {},
   "cell_type": "markdown",
   "metadata": {},
   "source": [
    "## env\n",
    "**install jupyter-lab**\n",
    "\n",
    "https://jupyter.org/install\n",
    "\n",
    "```sh\n",
    "python3 -m pip install jupyterlab notebook\n",
    "```\n",
    "\n",
    "\n",
    "**install tslab, a typescript kernel for jupyter**\n",
    "\n",
    "https://github.com/yunabe/tslab\n",
    "\n",
    "```sh\n",
    "npm install -g tslab\n",
    "tslab install python=python3\n",
    "```\n",
    "\n",
    "## usage\n",
    "\n",
    "3 ways:\n",
    "\n",
    "**connect to remote server**\n",
    "\n",
    "- run jupyter \n",
    "\n",
    "```sh\n",
    "    jupyter-lab --no-browser --NotebookApp.allow_origin='*'\n",
    "```\n",
    "\n",
    "```text\n",
    "    [C 15:47:28.854 NotebookApp]\n",
    "        To access the notebook, open this file in a browser:\n",
    "            file:///Users/drincanngao/Library/Jupyter/runtime/nbserver-8178-open.html\n",
    "        Or copy and paste one of these URLs:\n",
    "            http://localhost:8888/?token=2fd985f93b6f39d1dfaecc334c0b425ef3430008f740a666\n",
    "        or http://127.0.0.1:8888/?token=2fd985f93b6f39d1dfaecc334c0b425ef3430008f740a666\n",
    "```\n",
    "\n",
    "- install `Jupyter` extension in vscode and open this file.\n",
    "\n",
    "- put the url '127.0.0.1' one into vscode \"select another kernel\" > \"existing jupyter server\" > \"input connection url\"\n",
    "\n",
    "**start ts kernel in vscode**:\n",
    "\n",
    "- \"select another kernel\" > \"jupyter kernel\" > \"tslab\"\n",
    "\n",
    "**browser**\n",
    "\n",
    "- open the directory this file locates in terminal and run\n",
    "\n",
    "```sh\n",
    "    jupyter-lab\n",
    "```\n",
    "\n",
    "- the browser will open automatically\n",
    "\n"
   ]
  },
  {
   "attachments": {},
   "cell_type": "markdown",
   "metadata": {},
   "source": [
    "## nodejs event loop\n",
    "see -> https://nodejs.org/en/docs/guides/event-loop-timers-and-nexttick\n",
    "\n",
    "```text\n",
    "   ┌───────────────────────────┐\n",
    "┌─>│           timers          │\n",
    "│  └─────────────┬─────────────┘\n",
    "│  ┌─────────────┴─────────────┐\n",
    "│  │     pending callbacks     │\n",
    "│  └─────────────┬─────────────┘\n",
    "│  ┌─────────────┴─────────────┐\n",
    "│  │       idle, prepare       │\n",
    "│  └─────────────┬─────────────┘      ┌───────────────┐\n",
    "│  ┌─────────────┴─────────────┐      │   incoming:   │\n",
    "│  │           poll            │<─────┤  connections, │\n",
    "│  └─────────────┬─────────────┘      │   data, etc.  │\n",
    "│  ┌─────────────┴─────────────┐      └───────────────┘\n",
    "│  │           check           │\n",
    "│  └─────────────┬─────────────┘\n",
    "│  ┌─────────────┴─────────────┐\n",
    "└──┤      close callbacks      │\n",
    "   └───────────────────────────┘\n",
    "```\n",
    "\n",
    "## the article of this notebook\n",
    "\n",
    "[[手写协程] 从事件循环到 Promise/Thunk](https://codingfor.life/#/%E6%8A%80%E6%9C%AF%E6%96%87%E7%AB%A0/%E5%8D%8F%E7%A8%8B%E7%9A%84%E6%8A%BD%E8%B1%A1%E5%92%8C%E5%AE%9E%E7%8E%B0.md)"
   ]
  },
  {
   "attachments": {},
   "cell_type": "markdown",
   "metadata": {},
   "source": [
    "#### 支持协程的部分语言\n",
    "- stackless\n",
    "  - python(std lib: asyncio) https://docs.python.org/3/library/asyncio.html?highlight=asyncio\n",
    "  - kotlin https://kotlinlang.org/docs/coroutines-overview.html\n",
    "  - cpp(std lib) https://en.cppreference.com/w/cpp/language/coroutines\n",
    "  - rust\n",
    "  - javascript(built-in) https://developer.mozilla.org/en-US/docs/Web/JavaScript/Event_loop\n",
    "    - browser\n",
    "    - nodejs https://nodejs.org/en/docs/guides/event-loop-timers-and-nexttick\n",
    "- stackful\n",
    "  - golang\n",
    "  - java(java 19: virtual threads) https://openjdk.org/jeps/444\n"
   ]
  },
  {
   "attachments": {},
   "cell_type": "markdown",
   "metadata": {},
   "source": [
    "#### 无栈协程的核心特性\n",
    "- 在用户态实现 (非抢占)\n",
    "- 非阻塞 I/O (单线程并发)\n",
    "- 上下文不关心调用栈 (广度优先调度)"
   ]
  },
  {
   "attachments": {},
   "cell_type": "markdown",
   "metadata": {},
   "source": [
    "#### 实现参考\n",
    "- 协程的抽象 JavaScript 实现 https://github.com/Drincann/js-coroutine/\n",
    "- 协程的抽象 + 协程调度器 python 实现 https://github.com/Drincann/py-coroutine/"
   ]
  },
  {
   "attachments": {},
   "cell_type": "markdown",
   "metadata": {},
   "source": [
    "#### 下层为上层提供的异步 api:"
   ]
  },
  {
   "cell_type": "code",
   "execution_count": null,
   "metadata": {},
   "outputs": [],
   "source": [
    "import { readFile } from 'fs';\n",
    "readFile('/etc/hosts', (err, data) => {\n",
    "  console.log(1);\n",
    "});\n",
    "console.log(2);\n",
    "\n",
    "// output 2 1"
   ]
  },
  {
   "attachments": {},
   "cell_type": "markdown",
   "metadata": {},
   "source": [
    "#### 上层协程的抽象需要使用以下几个工具\n",
    "- 生成器\n",
    "- Promise"
   ]
  },
  {
   "attachments": {},
   "cell_type": "markdown",
   "metadata": {},
   "source": [
    "JavaScript 异步控制方案演变："
   ]
  },
  {
   "attachments": {},
   "cell_type": "markdown",
   "metadata": {},
   "source": [
    "阶段 1 回调函数"
   ]
  },
  {
   "cell_type": "code",
   "execution_count": null,
   "metadata": {},
   "outputs": [],
   "source": [
    "import fs, { readFile } from 'fs'\n",
    "\n",
    "// 阶段 1\n",
    "fs.readFile('./example.txt', (err, data1) => {\n",
    "\n",
    "  const path = data1.toString()\n",
    "  fs.readFile(path, (err, hostsContent) => {\n",
    "    console.log(hostsContent?.toString())\n",
    "  })\n",
    "\n",
    "})"
   ]
  },
  {
   "attachments": {},
   "cell_type": "markdown",
   "metadata": {},
   "source": [
    "阶段 2 Promise"
   ]
  },
  {
   "cell_type": "code",
   "execution_count": null,
   "metadata": {},
   "outputs": [],
   "source": [
    "import fs, { readFile } from 'fs'\n",
    "\n",
    "new Promise<ArrayBuffer>(resolve =>{\n",
    "\n",
    "  readFile('./example.txt', (err, data1) => {\n",
    "    resolve(data1)\n",
    "  })\n",
    "\n",
    "}).then(data1 => {\n",
    "\n",
    "  const path = data1.toString()\n",
    "  return new Promise(resolve => {\n",
    "    readFile(path, (err, hostsContent) => {\n",
    "      resolve(hostsContent)\n",
    "    })\n",
    "  })\n",
    "\n",
    "}).then(hostsContent => {\n",
    "\n",
    "  console.log(hostsContent?.toString())\n",
    "\n",
    "})"
   ]
  },
  {
   "attachments": {},
   "cell_type": "markdown",
   "metadata": {},
   "source": [
    "阶段 3 async / await"
   ]
  },
  {
   "cell_type": "code",
   "execution_count": null,
   "metadata": {},
   "outputs": [],
   "source": [
    "import fs, { readFile } from 'fs'\n",
    "\n",
    "// 阶段 3\n",
    "let readFilePromises = (filename: string) => {\n",
    "  return new Promise<ArrayBuffer>(resolve =>{\n",
    "    readFile(filename, (err, data1) => {\n",
    "      resolve(data1)\n",
    "    })\n",
    "  })\n",
    "}\n",
    "\n",
    "void async function () {\n",
    "  const path = await readFilePromises('./example.txt')\n",
    "  let hostsContent = await readFilePromises(path.toString())\n",
    "  console.log(hostsContent?.toString())\n",
    "}()"
   ]
  },
  {
   "attachments": {},
   "cell_type": "markdown",
   "metadata": {},
   "source": [
    "async function 几乎是 Promise 和生成器函数的语法糖，在解释器中与生成器共同一套实现，他们非常相似：\n",
    "```ts\n",
    "async function() {\n",
    "  const re1 = await foo();\n",
    "  const re2 = await bar(re1);\n",
    "  return [re1, re2]\n",
    "}\n",
    "\n",
    "function*() {\n",
    "  const re1 = yield foo();\n",
    "  const re2 = yield bar(re1);\n",
    "  return [re1, re2]\n",
    "}\n",
    "```"
   ]
  },
  {
   "cell_type": "code",
   "execution_count": null,
   "metadata": {},
   "outputs": [],
   "source": [
    "const log = console.log.bind(console)\n",
    "function* genfun() {\n",
    "  let re = yield 1;\n",
    "  yield re;\n",
    "  console.log('done')\n",
    "  return 'returnVal';\n",
    "}\n",
    "\n",
    "const gen = genfun();\n",
    "log(gen.next()); // {value: 1, done: false}\n",
    "log(gen.next(2)); // {value: 2, done: false}\n",
    "log(gen.next()); // {value: 'returnVal', done: true}\n",
    "log(gen.next()); // {value: undefined, done: true}\n",
    "log(gen.next()); // {value: undefined, done: true}"
   ]
  },
  {
   "attachments": {},
   "cell_type": "markdown",
   "metadata": {},
   "source": [
    "只有后生成器不够，我们还需要一个执行生成器的东西："
   ]
  },
  {
   "cell_type": "code",
   "execution_count": null,
   "metadata": {},
   "outputs": [],
   "source": [
    "class Coroutine<T> {\n",
    "  private coroutine: Generator<any, T, any>;\n",
    "\n",
    "  public constructor(gen: Generator<any, T, any>) {\n",
    "    this.coroutine = gen;\n",
    "  }\n",
    "\n",
    "  execute(): void {\n",
    "    const next = (value?: any) => {\n",
    "      // preform the next step\n",
    "      const result = this.coroutine.next(value);\n",
    "      if (!result.done) { // generator is not finished\n",
    "        next(result.value); // set the return value of yield\n",
    "      }\n",
    "    }; \n",
    "    \n",
    "    next();\n",
    "  }\n",
    "}"
   ]
  },
  {
   "attachments": {},
   "cell_type": "markdown",
   "metadata": {},
   "source": [
    "跑一下看看："
   ]
  },
  {
   "cell_type": "code",
   "execution_count": null,
   "metadata": {},
   "outputs": [],
   "source": [
    "function* genfun() {\n",
    "  const a = yield 1;\n",
    "  console.log(a);\n",
    "  const b = yield 2;\n",
    "  console.log(b);\n",
    "}\n",
    "\n",
    "new Coroutine(genfun()).execute(); // output: 1\\n2\\n"
   ]
  },
  {
   "attachments": {},
   "cell_type": "markdown",
   "metadata": {},
   "source": [
    "让我们的执行器可以像 async function 那样处理 Promise："
   ]
  },
  {
   "cell_type": "code",
   "execution_count": null,
   "metadata": {},
   "outputs": [],
   "source": [
    "class Coroutine<T> {\n",
    "  private coroutine: Generator<any, T, any>;\n",
    "\n",
    "  public constructor(gen: Generator<any, T, any>) {\n",
    "    this.coroutine = gen;\n",
    "  }\n",
    "\n",
    "  execute(): void {\n",
    "    const next = (value?: any) => {\n",
    "      const result = this.coroutine.next(value);\n",
    "      if (!result.done) {\n",
    "        if (typeof result.value.then === 'function') { // thenable\n",
    "          result.value.then(data => { // call next when promise is resolved\n",
    "            next(data);\n",
    "          });\n",
    "        } else {\n",
    "          next(result.value)\n",
    "        }\n",
    "      }\n",
    "    }; next();\n",
    "  }\n",
    "}"
   ]
  },
  {
   "attachments": {},
   "cell_type": "markdown",
   "metadata": {},
   "source": [
    "我们的执行器可以同步地处理异步操作了："
   ]
  },
  {
   "cell_type": "code",
   "execution_count": null,
   "metadata": {},
   "outputs": [],
   "source": [
    "import fs, { readFile } from 'fs'\n",
    "\n",
    "let readFilePromises = (filename: string) => {\n",
    "  return new Promise<ArrayBuffer>(resolve =>{\n",
    "    readFile(filename, (err, data1) => {\n",
    "      resolve(data1)\n",
    "    })\n",
    "  })\n",
    "}\n",
    "\n",
    "// generator\n",
    "function* genfun() {\n",
    "  const fileContent = yield readFilePromises('./example.txt');\n",
    "  console.log(fileContent.toString());\n",
    "}\n",
    "\n",
    "// run\n",
    "new Coroutine(genfun()).execute(); // file content"
   ]
  },
  {
   "attachments": {},
   "cell_type": "markdown",
   "metadata": {},
   "source": [
    "还可以更 async function，我们让 execute 方法返回一个 Promise，并能处理其他生成器："
   ]
  },
  {
   "cell_type": "code",
   "execution_count": null,
   "metadata": {},
   "outputs": [],
   "source": [
    "function isThenable(obj: any) : obj is Promise<any> {\n",
    "  return obj && typeof obj.then === 'function';\n",
    "}\n",
    "\n",
    "function isGeneratorIterator(obj: any) : obj is Generator {\n",
    "  return obj && typeof obj.next === 'function';\n",
    "}\n",
    "\n",
    "class Coroutine<T> {\n",
    "  private coroutine: Generator<any, T, any>;\n",
    "\n",
    "  public constructor(gen: Generator<any, T, any>) {\n",
    "    this.coroutine = gen;\n",
    "  }\n",
    "\n",
    "  execute(): Promise<T> {\n",
    "    // 返回一个 promise\n",
    "    return new Promise((resolve, reject) => {\n",
    "      const next = (value?: any) => {\n",
    "        const result = this.coroutine.next(value);\n",
    "        if (result.done) { // 生成器结束时 resolve 生成器返回结果\n",
    "          resolve(result.value);\n",
    "        } else {\n",
    "          // 处理 promise\n",
    "          if (isThenable(result.value)) {\n",
    "            result.value.then(next, reject);\n",
    "          } else if (isGeneratorIterator(result.value)) { // 处理其他生成器\n",
    "            new Coroutine(result.value).execute().then(next, reject);\n",
    "          } else {\n",
    "            // value\n",
    "            next(result.value);\n",
    "          }\n",
    "        }\n",
    "      }; next();\n",
    "    });\n",
    "  }\n",
    "}"
   ]
  },
  {
   "attachments": {},
   "cell_type": "markdown",
   "metadata": {},
   "source": [
    "试试："
   ]
  },
  {
   "cell_type": "code",
   "execution_count": null,
   "metadata": {},
   "outputs": [],
   "source": [
    "import fs, { readFile } from 'fs'\n",
    "\n",
    "let readFilePromises = (filename: string) => {\n",
    "  return new Promise<ArrayBuffer>(resolve =>{\n",
    "    readFile(filename, (err, data1) => {\n",
    "      resolve(data1)\n",
    "    })\n",
    "  })\n",
    "}\n",
    "\n",
    "function* getPathFrom(filename: string) {\n",
    "  return yield readFilePromises(filename);\n",
    "}\n",
    "\n",
    "function* genfun() {\n",
    "  const path = yield getPathFrom('./example.txt');\n",
    "  return yield readFilePromises(path.toString());\n",
    "}\n",
    "\n",
    "console.log(new Coroutine(genfun()).execute().then(data => console.log(data.toString())));"
   ]
  },
  {
   "attachments": {},
   "cell_type": "markdown",
   "metadata": {},
   "source": [
    "#### 参考\n",
    "- 完整实现 https://github.com/Drincann/js-coroutine\n",
    "- 如何实现 promise https://www.promisejs.org/implementing/\n",
    "\n",
    "以上的逻辑实现了协程这个抽象的概念，下面来看上面的实现所依赖的异步 api 该如何实现。\n",
    "\n",
    "```ts\n",
    "readFile('/etc/hosts', (err, data) => {\n",
    "  console.log(data);\n",
    "});\n",
    "```"
   ]
  }
 ],
 "metadata": {
  "kernelspec": {
   "display_name": "TypeScript",
   "language": "typescript",
   "name": "tslab"
  },
  "language_info": {
   "codemirror_mode": {
    "mode": "typescript",
    "name": "javascript",
    "typescript": true
   },
   "file_extension": ".ts",
   "mimetype": "text/typescript",
   "name": "typescript",
   "version": "3.7.2"
  },
  "orig_nbformat": 4
 },
 "nbformat": 4,
 "nbformat_minor": 2
}
